{
 "cells": [
  {
   "cell_type": "code",
   "execution_count": 1,
   "metadata": {},
   "outputs": [],
   "source": [
    "from tensorflow.keras.models import Sequential\n",
    "from tensorflow.keras.layers import Dense, Dropout, Activation, Flatten\n",
    "from tensorflow.keras.layers import Conv2D, MaxPooling2D\n",
    "from tensorflow.keras.callbacks import TensorBoard\n",
    "from tensorflow.keras.utils import to_categorical\n",
    "import pickle\n",
    "import numpy as np\n",
    "import matplotlib.pyplot as plt\n",
    "import time"
   ]
  },
  {
   "cell_type": "markdown",
   "metadata": {},
   "source": [
    "# Loading and preprocessing the data "
   ]
  },
  {
   "cell_type": "code",
   "execution_count": 18,
   "metadata": {},
   "outputs": [],
   "source": [
    "X = pickle.load(open(\"X_pickle\", \"rb\"))\n",
    "y = pickle.load(open(\"y_pickle\", \"rb\"))"
   ]
  },
  {
   "cell_type": "code",
   "execution_count": 19,
   "metadata": {},
   "outputs": [
    {
     "data": {
      "image/png": "[encoded data removed]",
      "text/plain": [
       "<Figure size 432x288 with 1 Axes>"
      ]
     },
     "metadata": {
      "needs_background": "light"
     },
     "output_type": "display_data"
    }
   ],
   "source": [
    "plt.imshow(X[50], cmap = 'gray')\n",
    "plt.show()"
   ]
  },
  {
   "cell_type": "code",
   "execution_count": 20,
   "metadata": {},
   "outputs": [
    {
     "data": {
      "text/plain": [
       "array([[120, 122, 118, ..., 111, 115, 107],\n",
       "       [138, 137, 138, ..., 123, 118, 109],\n",
       "       [140, 144, 142, ..., 120, 130, 128],\n",
       "       ...,\n",
       "       [ 46, 134, 102, ..., 149, 145, 145],\n",
       "       [ 76, 108, 124, ..., 155, 157, 150],\n",
       "       [ 81, 130, 150, ..., 139, 149, 142]], dtype=uint8)"
      ]
     },
     "execution_count": 20,
     "metadata": {},
     "output_type": "execute_result"
    }
   ],
   "source": [
    "X[0]"
   ]
  },
  {
   "cell_type": "code",
   "execution_count": 21,
   "metadata": {},
   "outputs": [
    {
     "data": {
      "text/plain": [
       "(50, 50)"
      ]
     },
     "execution_count": 21,
     "metadata": {},
     "output_type": "execute_result"
    }
   ],
   "source": [
    "X[0].shape"
   ]
  },
  {
   "cell_type": "code",
   "execution_count": 22,
   "metadata": {},
   "outputs": [
    {
     "name": "stderr",
     "output_type": "stream",
     "text": [
      "c:\\users\\carlisson\\appdata\\local\\programs\\python\\python37\\lib\\site-packages\\ipykernel_launcher.py:1: DeprecationWarning: Both axis > a.ndim and axis < -a.ndim - 1 are deprecated and will raise an AxisError in the future.\n",
      "  \"\"\"Entry point for launching an IPython kernel.\n"
     ]
    },
    {
     "data": {
      "text/plain": [
       "(50, 50, 1)"
      ]
     },
     "execution_count": 22,
     "metadata": {},
     "output_type": "execute_result"
    }
   ],
   "source": [
    "np.expand_dims(X[0],axis=3).shape"
   ]
  },
  {
   "cell_type": "code",
   "execution_count": 23,
   "metadata": {},
   "outputs": [],
   "source": [
    "#X = np.expand_dims(X,axis=3)\n",
    "IMG_SIZE = 50\n",
    "X = np.array(X).reshape(-1, IMG_SIZE, IMG_SIZE, 1)\n",
    "X = X / 255.0 # Normalizing the features "
   ]
  },
  {
   "cell_type": "code",
   "execution_count": 24,
   "metadata": {},
   "outputs": [
    {
     "data": {
      "text/plain": [
       "(50, 50, 1)"
      ]
     },
     "execution_count": 24,
     "metadata": {},
     "output_type": "execute_result"
    }
   ],
   "source": [
    "X[0].shape"
   ]
  },
  {
   "cell_type": "code",
   "execution_count": 25,
   "metadata": {},
   "outputs": [],
   "source": [
    "y = to_categorical(y) # 10 classes "
   ]
  },
  {
   "cell_type": "code",
   "execution_count": 26,
   "metadata": {},
   "outputs": [
    {
     "data": {
      "text/plain": [
       "array([[1., 0.],\n",
       "       [1., 0.],\n",
       "       [1., 0.],\n",
       "       ...,\n",
       "       [1., 0.],\n",
       "       [0., 1.],\n",
       "       [1., 0.]], dtype=float32)"
      ]
     },
     "execution_count": 26,
     "metadata": {},
     "output_type": "execute_result"
    }
   ],
   "source": [
    "y"
   ]
  },
  {
   "cell_type": "markdown",
   "metadata": {},
   "source": [
    "# Creating the Model"
   ]
  },
  {
   "cell_type": "code",
   "execution_count": 27,
   "metadata": {},
   "outputs": [],
   "source": [
    "dense_layers = [0]\n",
    "layer_sizes = [64]\n",
    "conv_layers = [3]"
   ]
  },
  {
   "cell_type": "code",
   "execution_count": 28,
   "metadata": {
    "scrolled": true
   },
   "outputs": [
    {
     "name": "stdout",
     "output_type": "stream",
     "text": [
      "Cats-vs-dog-cnn-62x2-1596826997\n",
      "Epoch 1/10\n",
      "  2/219 [..............................] - ETA: 1:36 - loss: 0.6931 - accuracy: 0.5938WARNING:tensorflow:Method (on_train_batch_end) is slow compared to the batch update (0.358021). Check your callbacks.\n",
      "219/219 [==============================] - 28s 126ms/step - loss: 0.6836 - accuracy: 0.5435 - val_loss: 0.6698 - val_accuracy: 0.5809\n",
      "Epoch 2/10\n",
      "219/219 [==============================] - 25s 113ms/step - loss: 0.6347 - accuracy: 0.6439 - val_loss: 0.6202 - val_accuracy: 0.6667\n",
      "Epoch 3/10\n",
      "219/219 [==============================] - 26s 120ms/step - loss: 0.5967 - accuracy: 0.6829 - val_loss: 0.5977 - val_accuracy: 0.6854\n",
      "Epoch 4/10\n",
      "219/219 [==============================] - 27s 122ms/step - loss: 0.5575 - accuracy: 0.7164 - val_loss: 0.5647 - val_accuracy: 0.7057\n",
      "Epoch 5/10\n",
      "219/219 [==============================] - 27s 122ms/step - loss: 0.5194 - accuracy: 0.7447 - val_loss: 0.5201 - val_accuracy: 0.7471\n",
      "Epoch 6/10\n",
      "219/219 [==============================] - 28s 126ms/step - loss: 0.4857 - accuracy: 0.7654 - val_loss: 0.5129 - val_accuracy: 0.7471\n",
      "Epoch 7/10\n",
      "219/219 [==============================] - 31s 140ms/step - loss: 0.4564 - accuracy: 0.7807 - val_loss: 0.5278 - val_accuracy: 0.7471\n",
      "Epoch 8/10\n",
      "219/219 [==============================] - 28s 126ms/step - loss: 0.4263 - accuracy: 0.8056 - val_loss: 0.4916 - val_accuracy: 0.7664\n",
      "Epoch 9/10\n",
      "219/219 [==============================] - 26s 119ms/step - loss: 0.3967 - accuracy: 0.8218 - val_loss: 0.4978 - val_accuracy: 0.7648\n",
      "Epoch 10/10\n",
      "219/219 [==============================] - 26s 119ms/step - loss: 0.3628 - accuracy: 0.8402 - val_loss: 0.5219 - val_accuracy: 0.7548\n"
     ]
    }
   ],
   "source": [
    "for i in dense_layers:\n",
    "    for j in layer_sizes:\n",
    "        for k in conv_layers:\n",
    "            NAME = \"Cats-vs-dog-cnn-62x2-{}\".format(int(time.time()))\n",
    "            tensorboard = TensorBoard(log_dir='logs/{}'.format(NAME))\n",
    "            print(NAME)\n",
    "\n",
    "            model = Sequential()\n",
    "\n",
    "            model.add(Conv2D(j , (3,3), input_shape = X.shape[1:]))\n",
    "            model.add(Activation(\"relu\"))\n",
    "            model.add(MaxPooling2D(pool_size=(2,2)))\n",
    "\n",
    "            for l in range(k-1):\n",
    "                model.add(Conv2D(j , (3,3) ) )\n",
    "                model.add(Activation(\"relu\"))\n",
    "                model.add(MaxPooling2D(pool_size=(2,2)))\n",
    "            model.add(Flatten())\n",
    "\n",
    "            for l in range(i):\n",
    "                model.add(Dense(j))\n",
    "                model.add(Activation(\"relu\"))\n",
    "\n",
    "            model.add(Dense(2))\n",
    "            model.add(Activation('sigmoid'))\n",
    "\n",
    "            model.compile(loss=\"binary_crossentropy\",\n",
    "                         optimizer = \"adam\",\n",
    "                         metrics=['accuracy'])\n",
    "\n",
    "            model.fit(X, y, batch_size=32, epochs = 10 , validation_split=0.3,\n",
    "                      callbacks=[tensorboard])\n"
   ]
  },
  {
   "cell_type": "code",
   "execution_count": null,
   "metadata": {},
   "outputs": [],
   "source": []
  },
  {
   "cell_type": "markdown",
   "metadata": {},
   "source": [
    "#### Testing the Model and saving it"
   ]
  },
  {
   "cell_type": "code",
   "execution_count": 32,
   "metadata": {},
   "outputs": [],
   "source": [
    "predictions = model.predict(X)"
   ]
  },
  {
   "cell_type": "code",
   "execution_count": 33,
   "metadata": {},
   "outputs": [
    {
     "data": {
      "text/plain": [
       "array([0.94078594, 0.06953982], dtype=float32)"
      ]
     },
     "execution_count": 33,
     "metadata": {},
     "output_type": "execute_result"
    }
   ],
   "source": [
    "predictions[0]"
   ]
  },
  {
   "cell_type": "code",
   "execution_count": 34,
   "metadata": {},
   "outputs": [
    {
     "data": {
      "text/plain": [
       "0"
      ]
     },
     "execution_count": 34,
     "metadata": {},
     "output_type": "execute_result"
    }
   ],
   "source": [
    "np.argmax(predictions[0])"
   ]
  },
  {
   "cell_type": "code",
   "execution_count": 35,
   "metadata": {},
   "outputs": [],
   "source": [
    "y_pred_matriz = [np.argmax(t) for t in predictions]"
   ]
  },
  {
   "cell_type": "code",
   "execution_count": 36,
   "metadata": {},
   "outputs": [
    {
     "data": {
      "text/plain": [
       "[1, 1, 1, 1, 1, 1, 0, 0, 1, 0, 1, 1, 0, 1, 0, 1, 1, 1]"
      ]
     },
     "execution_count": 36,
     "metadata": {},
     "output_type": "execute_result"
    }
   ],
   "source": [
    "y_pred_matriz[2:20]"
   ]
  },
  {
   "cell_type": "code",
   "execution_count": 37,
   "metadata": {},
   "outputs": [],
   "source": [
    "y_matriz = [np.argmax(t) for t in y]"
   ]
  },
  {
   "cell_type": "code",
   "execution_count": 38,
   "metadata": {},
   "outputs": [
    {
     "data": {
      "text/plain": [
       "[0, 1, 1, 1, 1, 1, 1, 1, 1, 0, 1, 1, 0, 1, 1, 1, 1, 1]"
      ]
     },
     "execution_count": 38,
     "metadata": {},
     "output_type": "execute_result"
    }
   ],
   "source": [
    "y_matriz[2:20]"
   ]
  },
  {
   "cell_type": "code",
   "execution_count": null,
   "metadata": {},
   "outputs": [],
   "source": []
  },
  {
   "cell_type": "code",
   "execution_count": 39,
   "metadata": {},
   "outputs": [],
   "source": [
    "from sklearn.metrics import confusion_matrix"
   ]
  },
  {
   "cell_type": "code",
   "execution_count": 40,
   "metadata": {},
   "outputs": [
    {
     "data": {
      "text/plain": [
       "array([[4350, 1133],\n",
       "       [ 647, 3859]], dtype=int64)"
      ]
     },
     "execution_count": 40,
     "metadata": {},
     "output_type": "execute_result"
    }
   ],
   "source": [
    "confusion_matrix(y_pred_matriz, y_matriz)"
   ]
  },
  {
   "cell_type": "code",
   "execution_count": 41,
   "metadata": {},
   "outputs": [
    {
     "name": "stdout",
     "output_type": "stream",
     "text": [
      "INFO:tensorflow:Assets written to: Model_DogCat-CNN.model\\assets\n"
     ]
    }
   ],
   "source": [
    "model.save('Model_DogCat-CNN.model')"
   ]
  },
  {
   "cell_type": "markdown",
   "metadata": {},
   "source": [
    "# Making Prediction"
   ]
  },
  {
   "cell_type": "code",
   "execution_count": 43,
   "metadata": {},
   "outputs": [],
   "source": [
    "import cv2\n",
    "import tensorflow as tf\n",
    "import matplotlib.pyplot as plt\n",
    "import os"
   ]
  },
  {
   "cell_type": "code",
   "execution_count": 44,
   "metadata": {},
   "outputs": [],
   "source": [
    "model = tf.keras.models.load_model(\"Model_DogCat-CNN.model\")"
   ]
  },
  {
   "cell_type": "code",
   "execution_count": 48,
   "metadata": {},
   "outputs": [],
   "source": [
    "dir_path = r\"C:\\Users\\Carlisson\\Dropbox\\Ciencia de Dados\\Neural_Networks\\Dogs_Cats\\PetImages\\NewPet\"\n",
    "#C:\\Users\\Carlisson\\Dropbox\\Ciencia de Dados\\Neural_Networks\\PetImages\\NewPet\"\n",
    "#CATEGORIES = [\"NewPet\"]\n",
    "CATEGORIES = [\"Dog\", \"Cat\"]\n"
   ]
  },
  {
   "cell_type": "code",
   "execution_count": 79,
   "metadata": {},
   "outputs": [],
   "source": [
    "def new_image(path):\n",
    "    for img in os.listdir(dir_path):\n",
    "        img_array = cv2.imread(os.path.join(path, img), cv2.IMREAD_GRAYSCALE) # gray_scale because color has not effect\n",
    "        new_array = cv2.resize(img_array, (IMG_SIZE, IMG_SIZE))\n",
    "        plt.imshow(new_array, cmap=\"gray\")\n",
    "        plt.show()\n",
    "        #break"
   ]
  },
  {
   "cell_type": "code",
   "execution_count": 80,
   "metadata": {},
   "outputs": [
    {
     "data": {
      "image/png": "[encoded data removed]",
      "text/plain": [
       "<Figure size 432x288 with 1 Axes>"
      ]
     },
     "metadata": {
      "needs_background": "light"
     },
     "output_type": "display_data"
    }
   ],
   "source": [
    "new_image(dir_path)"
   ]
  },
  {
   "cell_type": "code",
   "execution_count": 65,
   "metadata": {},
   "outputs": [],
   "source": [
    "def preparing_image(path):\n",
    "    for img in os.listdir(path):\n",
    "        IMG_SIZE = 50\n",
    "        img_array = cv2.imread(os.path.join(path, img), cv2.IMREAD_GRAYSCALE) # gray_scale because color has not effect\n",
    "        new_array = cv2.resize(img_array, (IMG_SIZE, IMG_SIZE))\n",
    "        Xnew = new_array.reshape(-1, IMG_SIZE, IMG_SIZE, 1)\n",
    "        Xnew = Xnew / 255.0 # Normalizing the features\n",
    "    return Xnew\n",
    "        #plt.imshow(new_array, cmap=\"gray\")\n",
    "        #plt.show()"
   ]
  },
  {
   "cell_type": "code",
   "execution_count": 66,
   "metadata": {},
   "outputs": [],
   "source": [
    "#preparing_image(dir_path)"
   ]
  },
  {
   "cell_type": "code",
   "execution_count": 124,
   "metadata": {},
   "outputs": [],
   "source": [
    "def predicting(path):\n",
    "    predict_new = model.predict(preparing_image(path))\n",
    "    argmax = np.argmax(predict_new)\n",
    "    return print('The program has identified the new image as a \\033[1m{}'.format(CATEGORIES[argmax].upper()))"
   ]
  },
  {
   "cell_type": "code",
   "execution_count": 125,
   "metadata": {},
   "outputs": [
    {
     "name": "stdout",
     "output_type": "stream",
     "text": [
      "The program has identified the new image as a \u001b[1mDOG\n"
     ]
    }
   ],
   "source": [
    "predicting(dir_path)"
   ]
  },
  {
   "cell_type": "code",
   "execution_count": 91,
   "metadata": {},
   "outputs": [],
   "source": []
  },
  {
   "cell_type": "code",
   "execution_count": null,
   "metadata": {},
   "outputs": [],
   "source": []
  },
  {
   "cell_type": "code",
   "execution_count": null,
   "metadata": {},
   "outputs": [],
   "source": []
  }
 ],
 "metadata": {
  "kernelspec": {
   "display_name": "Python 3",
   "language": "python",
   "name": "python3"
  },
  "language_info": {
   "codemirror_mode": {
    "name": "ipython",
    "version": 3
   },
   "file_extension": ".py",
   "mimetype": "text/x-python",
   "name": "python",
   "nbconvert_exporter": "python",
   "pygments_lexer": "ipython3",
   "version": "3.7.6"
  }
 },
 "nbformat": 4,
 "nbformat_minor": 2
}
